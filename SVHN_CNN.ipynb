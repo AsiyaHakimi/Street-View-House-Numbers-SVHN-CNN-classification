{
 "cells": [
  {
   "cell_type": "markdown",
   "metadata": {
    "colab_type": "text",
    "id": "_Upxzt7efZsd"
   },
   "source": [
    "# Street View House Numbers (SVHN) CNN classification"
   ]
  },
  {
   "cell_type": "code",
   "execution_count": null,
   "metadata": {},
   "outputs": [],
   "source": [
    "\n",
    "#Name: Asiya Hakimi\n",
    "#Train a CNN on the SVHN Dataset for Classification\n",
    "# email address : asiyahakimi09@gmail.com\n",
    "#GitHub profile link :https://github.com/AsiyaHakimi"
   ]
  },
  {
   "cell_type": "markdown",
   "metadata": {
    "colab_type": "text",
    "id": "Xhemwms4fzLu"
   },
   "source": [
    "## SVHN\n"
   ]
  },
  {
   "cell_type": "markdown",
   "metadata": {
    "colab_type": "text",
    "id": "mpEQKWLIf9IK"
   },
   "source": [
    "Street View House Numbers (SHVN) is a real-world image dataset that consists of images obtained from house numbers in Google street view images. The dataset can be used to automatically transcribe an address number from a geo-located patch of pixels and the associated transcribed number can be used to pinpoint the location of the building it represents.\n",
    "\n"
   ]
  },
  {
   "cell_type": "markdown",
   "metadata": {
    "colab_type": "text",
    "id": "JtalD_uzjy8A"
   },
   "source": [
    "\n",
    "\n",
    "\n",
    "\n",
    "\n",
    "\n"
   ]
  },
  {
   "cell_type": "markdown",
   "metadata": {
    "colab_type": "text",
    "id": "2T8y4RMGzGoy"
   },
   "source": [
    "# Project Implementation"
   ]
  },
  {
   "cell_type": "markdown",
   "metadata": {
    "colab_type": "text",
    "id": "qDtZzrLLzQ6i"
   },
   "source": [
    "### Import necessary libraries"
   ]
  },
  {
   "cell_type": "code",
   "execution_count": 70,
   "metadata": {
    "colab": {},
    "colab_type": "code",
    "id": "t3XDLkfWfhVO"
   },
   "outputs": [],
   "source": [
    "import tensorflow as tf\n",
    "import numpy as np\n",
    "import matplotlib.pyplot as plt\n",
    "import logging\n",
    "import random\n",
    "import h5py\n",
    "import os\n",
    "from tensorflow.keras.utils import to_categorical\n",
    "from tensorflow.keras.models import Sequential\n",
    "from tensorflow.keras.layers import Dense, BatchNormalization, Dropout\n",
    "from tensorflow.keras.callbacks import EarlyStopping, ModelCheckpoint, TensorBoard\n",
    "from tensorflow.keras.optimizers import SGD, Adam, Nadam\n",
    "from tensorflow.keras.preprocessing.image import ImageDataGenerator"
   ]
  },
  {
   "cell_type": "markdown",
   "metadata": {
    "colab_type": "text",
    "id": "sltlaZyT1zKE"
   },
   "source": [
    "### Add setting for libraries"
   ]
  },
  {
   "cell_type": "raw",
   "metadata": {},
   "source": [
    "import warnings loads the warnings module to manage warning messages during execution.\n",
    "\n",
    "import os loads the os module, allowing interaction with the operating system for tasks like file handling and directory navigation.\n",
    "\n",
    "import pandas as pd imports the pandas library as pd, providing data structures for manipulating and analyzing structured data.\n",
    "\n",
    "import numpy as np imports the numpy library as np, essential for numerical computing, including support for arrays and mathematical operations.\n",
    "\n",
    "import matplotlib.pyplot as plt imports the pyplot module from matplotlib as plt, simplifying the process of creating visualizations.\n",
    "\n",
    "%matplotlib inline is a Jupyter notebook command that enables inline plotting, displaying graphs directly below the code cells."
   ]
  },
  {
   "cell_type": "code",
   "execution_count": 25,
   "metadata": {
    "colab": {},
    "colab_type": "code",
    "id": "ADOIYBAwzyen"
   },
   "outputs": [],
   "source": [
    "\n",
    "logging.disable(logging.WARNING)\n",
    "\n",
    "\n",
    "%matplotlib inline\n",
    "\n",
    "\n",
    "random.seed(1)"
   ]
  },
  {
   "cell_type": "markdown",
   "metadata": {
    "colab_type": "text",
    "id": "SGqthQoc271E"
   },
   "source": [
    "### Load the dataset"
   ]
  },
  {
   "cell_type": "code",
   "execution_count": 26,
   "metadata": {
    "colab": {},
    "colab_type": "code",
    "id": "adjnOcQo2TG3"
   },
   "outputs": [],
   "source": [
    "#Open the file\n",
    "data = h5py.File('SVHN_single_grey1.h5')\n",
    "\n",
    "#Load the training and test data\n",
    "X_train = data['X_train'][:]\n",
    "y_train = data['y_train'][:]\n",
    "X_test = data['X_test'][:]\n",
    "y_test = data['y_test'][:]"
   ]
  },
  {
   "cell_type": "markdown",
   "metadata": {},
   "source": [
    "# Details"
   ]
  },
  {
   "cell_type": "raw",
   "metadata": {},
   "source": [
    "\n",
    "\n",
    "1. import h5py imports the h5py library, which is used for reading and writing HDF5 files in Python. HDF5 is a file format and set of tools for managing complex data.\n",
    "\n",
    "2. h5f = h5py.File(\"Autonomous_Vehicles_SVHN_single_grey1.h5\") opens the HDF5 file named \"Autonomous_Vehicles_SVHN_single_grey1.h5\" and assigns it to the variable h5f. This line allows you to access the contents of the HDF5 file.\n",
    "\n"
   ]
  },
  {
   "cell_type": "markdown",
   "metadata": {
    "colab_type": "text",
    "id": "pd4LIxkJ4p-r"
   },
   "source": [
    "### Understand the data"
   ]
  },
  {
   "cell_type": "code",
   "execution_count": 27,
   "metadata": {
    "colab": {
     "base_uri": "https://localhost:8080/",
     "height": 34
    },
    "colab_type": "code",
    "id": "7Rtk_a4x4pqH",
    "outputId": "1631420e-b9e7-42e1-9fd5-bc46ed8cfb29"
   },
   "outputs": [
    {
     "data": {
      "text/plain": [
       "(42000, 32, 32)"
      ]
     },
     "execution_count": 27,
     "metadata": {},
     "output_type": "execute_result"
    }
   ],
   "source": [
    "X_train.shape"
   ]
  },
  {
   "cell_type": "markdown",
   "metadata": {
    "colab_type": "text",
    "id": "YBQhFBdw61po"
   },
   "source": [
    "**The training dataset has 42k images of size 32*32**"
   ]
  },
  {
   "cell_type": "code",
   "execution_count": 5,
   "metadata": {
    "colab": {
     "base_uri": "https://localhost:8080/",
     "height": 34
    },
    "colab_type": "code",
    "id": "p8Bd8qc34Fdp",
    "outputId": "369d0a6b-3e4a-4ee8-f906-aa9666f97b15"
   },
   "outputs": [
    {
     "data": {
      "text/plain": [
       "(42000,)"
      ]
     },
     "execution_count": 5,
     "metadata": {},
     "output_type": "execute_result"
    }
   ],
   "source": [
    "y_train.shape"
   ]
  },
  {
   "cell_type": "markdown",
   "metadata": {
    "colab_type": "text",
    "id": "TaFynnLq7PXq"
   },
   "source": [
    "**There are 42k labels that provides the correct classification for images in our training dataset**"
   ]
  },
  {
   "cell_type": "code",
   "execution_count": 6,
   "metadata": {
    "colab": {
     "base_uri": "https://localhost:8080/",
     "height": 34
    },
    "colab_type": "code",
    "id": "MXg5SzgS42wa",
    "outputId": "384a6d13-dbf1-4635-d584-95ef635726f7"
   },
   "outputs": [
    {
     "data": {
      "text/plain": [
       "(18000, 32, 32)"
      ]
     },
     "execution_count": 6,
     "metadata": {},
     "output_type": "execute_result"
    }
   ],
   "source": [
    "X_test.shape"
   ]
  },
  {
   "cell_type": "markdown",
   "metadata": {
    "colab_type": "text",
    "id": "aDeZAAt37l5o"
   },
   "source": [
    "**The test dataset has 18k images of size 32*32**"
   ]
  },
  {
   "cell_type": "code",
   "execution_count": 7,
   "metadata": {
    "colab": {
     "base_uri": "https://localhost:8080/",
     "height": 34
    },
    "colab_type": "code",
    "id": "AeIndGAU447z",
    "outputId": "d44fa7f6-ef20-4bd4-8de6-1375bb7b5580"
   },
   "outputs": [
    {
     "data": {
      "text/plain": [
       "(18000,)"
      ]
     },
     "execution_count": 7,
     "metadata": {},
     "output_type": "execute_result"
    }
   ],
   "source": [
    "y_test.shape"
   ]
  },
  {
   "cell_type": "markdown",
   "metadata": {
    "colab_type": "text",
    "id": "T7C0uukV72kd"
   },
   "source": [
    "**There are 18k labels that provides the correct classification for images in our test dataset**"
   ]
  },
  {
   "cell_type": "markdown",
   "metadata": {
    "colab_type": "text",
    "id": "HLbvRN6T8TWs"
   },
   "source": []
  },
  {
   "cell_type": "code",
   "execution_count": 32,
   "metadata": {
    "colab": {
     "base_uri": "https://localhost:8080/",
     "height": 336
    },
    "colab_type": "code",
    "id": "uBUp1a1V48pS",
    "outputId": "1a863636-b61b-4f5c-d269-20da88a6232d"
   },
   "outputs": [
    {
     "data": {
      "image/png": "[encoded data removed]",
      "text/plain": [
       "<Figure size 600x600 with 12 Axes>"
      ]
     },
     "metadata": {},
     "output_type": "display_data"
    }
   ],
   "source": [
    "#set the size of the plot\n",
    "plt.figure(figsize=(6,6))\n",
    "\n",
    "for index in range(12):\n",
    "  plt.subplot(4,4, index+1)\n",
    "  plt.imshow(X_train[index], cmap='Greys')\n",
    "  plt.axis('off')\n",
    "\n",
    "plt.tight_layout()"
   ]
  },
  {
   "cell_type": "markdown",
   "metadata": {},
   "source": [
    "#### Display the first 12 images of training dataset"
   ]
  },
  {
   "cell_type": "markdown",
   "metadata": {},
   "source": [
    "# Details"
   ]
  },
  {
   "cell_type": "raw",
   "metadata": {},
   "source": [
    "\n",
    "\n",
    "1. def img_lab(n): defines a function named img_lab that takes one parameter, n, which specifies the number of images to display.\n",
    "\n",
    "2. plt.figure(figsize=(n, 1)) creates a new figure for plotting with a width of n and a height of 1, allowing space for the images to be displayed side by side.\n",
    "\n",
    "3. for i in range(n): starts a loop that iterates n times, with i ranging from 0 to n-1.\n",
    "\n",
    "4. plt.subplot(1, n, i+1) creates a subplot in a grid of 1 row and n columns, placing the current plot in the i+1 position. This organizes the layout for displaying multiple images.\n",
    "\n",
    "5. plt.imshow(X_train[i], cmap=gray) displays the i-th image from the X_train dataset. The cmap=gray argument specifies that the image should be shown in grayscale. Note that gray should be enclosed in quotes, as it should be a string ('gray').\n",
    "\n"
   ]
  },
  {
   "cell_type": "code",
   "execution_count": 33,
   "metadata": {},
   "outputs": [],
   "source": [
    "X_train = X_train.reshape(X_train.shape[0], 1024, 1)\n",
    "X_test = X_test.reshape(X_test.shape[0], 1024, 1)\n",
    "X_train = X_train / 255.0\n",
    "X_test = X_test / 255.0"
   ]
  },
  {
   "cell_type": "markdown",
   "metadata": {},
   "source": [
    "# Details"
   ]
  },
  {
   "cell_type": "raw",
   "metadata": {},
   "source": [
    "\n",
    "1. X_train = X_train.reshape(X_train.shape[0], 1024, 1) reshapes the X_train array. It keeps the first dimension as is (X_train.shape[0], representing the number of training samples) and reshapes each sample into a 1D array of size 1024 with a single channel. This is often done for models that expect inputs in a specific shape.\n",
    "\n",
    "2. X_test = X_test.reshape(X_test.shape[0], 1024, 1) similarly reshapes the X_test array to the same format as X_train, preparing the test data for input into a model.\n",
    "\n",
    "3. X_train = X_train / 255.0 normalizes the X_train data by dividing each pixel value by 255.0. This scales the pixel values from the range of 0-255 to a range of 0-1, which helps improve model performance and convergence during training.\n"
   ]
  },
  {
   "cell_type": "code",
   "execution_count": 34,
   "metadata": {},
   "outputs": [],
   "source": [
    "from tensorflow.keras.utils import to_categorical\n",
    "y_train = to_categorical(y_train)\n",
    "y_test = to_categorical(y_test)"
   ]
  },
  {
   "cell_type": "markdown",
   "metadata": {},
   "source": [
    "# Details"
   ]
  },
  {
   "cell_type": "raw",
   "metadata": {},
   "source": [
    "\n",
    "1. from tensorflow.keras.utils import to_categorical imports the to_categorical function from TensorFlow's Keras utilities. This function is used to convert class labels (integers) into a binary matrix representation (one-hot encoding).\n",
    "\n",
    "2. y_train = to_categorical(y_train) converts the y_train array of integer labels into a one-hot encoded format. For example, if the original label was "
   ]
  },
  {
   "cell_type": "code",
   "execution_count": 37,
   "metadata": {},
   "outputs": [],
   "source": [
    "from keras.activations import relu, softmax  # Import relu and softmax\n"
   ]
  },
  {
   "cell_type": "code",
   "execution_count": 39,
   "metadata": {},
   "outputs": [],
   "source": [
    "from tensorflow.keras.models import Sequential\n",
    "from tensorflow.keras.layers import Conv1D, MaxPooling1D, Flatten, Dense, Dropout\n",
    "\n",
    "def cnn_model():\n",
    "    model = Sequential()\n",
    "    model.add(Conv1D(32, kernel_size=3, activation=relu, input_shape=(1024, 1)))\n",
    "    model.add(MaxPooling1D(pool_size=2))\n",
    "    model.add(Conv1D(64, kernel_size=3, activation=relu))\n",
    "    model.add(MaxPooling1D(pool_size=2))\n",
    "    model.add(Conv1D(128, kernel_size=3, activation=relu))\n",
    "    model.add(MaxPooling1D(pool_size=2))\n",
    "    model.add(Flatten())\n",
    "    model.add(Dense(128, activation=relu))\n",
    "    model.add(Dropout(0.5))\n",
    "    model.add(Dense(10, activation=softmax))\n",
    "    return model\n",
    "\n",
    "model = cnn_model()"
   ]
  },
  {
   "cell_type": "markdown",
   "metadata": {},
   "source": [
    "# Details"
   ]
  },
  {
   "cell_type": "raw",
   "metadata": {},
   "source": [
    "\n",
    "1. from tensorflow.keras.models import Sequential imports the Sequential model type from Keras, allowing you to build a model layer by layer.\n",
    "\n",
    "2. from tensorflow.keras.layers import Conv1D, MaxPooling1D, Flatten, Dense, Dropout imports various layer types that can be used to build the convolutional neural network (CNN). \n",
    "\n",
    "3. def cnn_model(): defines a function named cnn_model that will create and return a convolutional neural network model.\n",
    "\n",
    "4. model = Sequential() initializes a new instance of the Sequential model.\n",
    "\n",
    "5. model.add(Conv1D(32, kernel_size=3, activation=relu, input_shape=(1024, 1))) adds a 1D convolutional layer with 32 filters, a kernel size of 3, and a ReLU activation function. The input_shape specifies the shape of the input data (1024 time steps with 1 feature).\n",
    "\n",
    "6. model.add(MaxPooling1D(pool_size=2)) adds a max pooling layer with a pool size of 2, reducing the output dimensionality by taking the maximum value from every two consecutive elements.\n",
    "\n",
    "7. model.add(Conv1D(64, kernel_size=3, activation=relu)) adds another convolutional layer with 64 filters and the same kernel size and activation function as before.\n",
    "\n",
    "8. model.add(MaxPooling1D(pool_size=2)) adds another max pooling layer, further downsampling the output.\n",
    "\n",
    "9. model.add(Conv1D(128, kernel_size=3, activation=relu)) adds a third convolutional layer with 128 filters.\n",
    "\n",
    "10. model.add(MaxPooling1D(pool_size=2)) adds another max pooling layer.\n",
    "\n",
    "11. model.add(Flatten()) flattens the output from the previous layer into a 1D array, preparing it for the fully connected layers..\n"
   ]
  },
  {
   "cell_type": "code",
   "execution_count": 46,
   "metadata": {},
   "outputs": [],
   "source": [
    "from keras.optimizers import Adam "
   ]
  },
  {
   "cell_type": "code",
   "execution_count": 50,
   "metadata": {},
   "outputs": [],
   "source": [
    "from keras.models import Sequential\n",
    "from keras.layers import Conv1D, MaxPooling1D, Dense, Flatten\n",
    "from keras.optimizers import Adam\n",
    "from keras.losses import CategoricalCrossentropy\n",
    "from keras.metrics import Accuracy\n"
   ]
  },
  {
   "cell_type": "code",
   "execution_count": 55,
   "metadata": {},
   "outputs": [],
   "source": [
    "# Compile the model\n",
    "model.compile(optimizer=Adam(), \n",
    "              loss=CategoricalCrossentropy(), \n",
    "              metrics=[Accuracy()])\n"
   ]
  },
  {
   "cell_type": "code",
   "execution_count": 56,
   "metadata": {},
   "outputs": [
    {
     "name": "stdout",
     "output_type": "stream",
     "text": [
      "Epoch 1/10\n",
      "\u001b[1m1313/1313\u001b[0m \u001b[32m━━━━━━━━━━━━━━━━━━━━\u001b[0m\u001b[37m\u001b[0m \u001b[1m81s\u001b[0m 57ms/step - accuracy: 6.4184e-08 - loss: 1.9394 - val_accuracy: 0.0000e+00 - val_loss: 1.1122\n",
      "Epoch 2/10\n",
      "\u001b[1m1313/1313\u001b[0m \u001b[32m━━━━━━━━━━━━━━━━━━━━\u001b[0m\u001b[37m\u001b[0m \u001b[1m63s\u001b[0m 48ms/step - accuracy: 1.0997e-05 - loss: 1.1853 - val_accuracy: 3.3333e-05 - val_loss: 0.9438\n",
      "Epoch 3/10\n",
      "\u001b[1m1313/1313\u001b[0m \u001b[32m━━━━━━━━━━━━━━━━━━━━\u001b[0m\u001b[37m\u001b[0m \u001b[1m63s\u001b[0m 48ms/step - accuracy: 3.6541e-05 - loss: 1.0450 - val_accuracy: 2.2222e-05 - val_loss: 0.8615\n",
      "Epoch 4/10\n",
      "\u001b[1m1313/1313\u001b[0m \u001b[32m━━━━━━━━━━━━━━━━━━━━\u001b[0m\u001b[37m\u001b[0m \u001b[1m61s\u001b[0m 47ms/step - accuracy: 1.3724e-04 - loss: 0.9567 - val_accuracy: 2.7778e-05 - val_loss: 0.8316\n",
      "Epoch 5/10\n",
      "\u001b[1m1313/1313\u001b[0m \u001b[32m━━━━━━━━━━━━━━━━━━━━\u001b[0m\u001b[37m\u001b[0m \u001b[1m60s\u001b[0m 46ms/step - accuracy: 1.1491e-04 - loss: 0.9249 - val_accuracy: 2.7778e-05 - val_loss: 0.7858\n",
      "Epoch 6/10\n",
      "\u001b[1m1313/1313\u001b[0m \u001b[32m━━━━━━━━━━━━━━━━━━━━\u001b[0m\u001b[37m\u001b[0m \u001b[1m61s\u001b[0m 46ms/step - accuracy: 1.5490e-04 - loss: 0.8686 - val_accuracy: 2.2222e-05 - val_loss: 0.7606\n",
      "Epoch 7/10\n",
      "\u001b[1m1313/1313\u001b[0m \u001b[32m━━━━━━━━━━━━━━━━━━━━\u001b[0m\u001b[37m\u001b[0m \u001b[1m61s\u001b[0m 47ms/step - accuracy: 3.1958e-04 - loss: 0.8340 - val_accuracy: 2.4444e-04 - val_loss: 0.7623\n",
      "Epoch 8/10\n",
      "\u001b[1m1313/1313\u001b[0m \u001b[32m━━━━━━━━━━━━━━━━━━━━\u001b[0m\u001b[37m\u001b[0m \u001b[1m60s\u001b[0m 46ms/step - accuracy: 3.6194e-04 - loss: 0.8056 - val_accuracy: 2.8889e-04 - val_loss: 0.7391\n",
      "Epoch 9/10\n",
      "\u001b[1m1313/1313\u001b[0m \u001b[32m━━━━━━━━━━━━━━━━━━━━\u001b[0m\u001b[37m\u001b[0m \u001b[1m61s\u001b[0m 46ms/step - accuracy: 4.9033e-04 - loss: 0.7853 - val_accuracy: 3.4444e-04 - val_loss: 0.7341\n",
      "Epoch 10/10\n",
      "\u001b[1m1313/1313\u001b[0m \u001b[32m━━━━━━━━━━━━━━━━━━━━\u001b[0m\u001b[37m\u001b[0m \u001b[1m62s\u001b[0m 47ms/step - accuracy: 5.6708e-04 - loss: 0.7463 - val_accuracy: 3.7222e-04 - val_loss: 0.7426\n"
     ]
    }
   ],
   "source": [
    "\n",
    "training_history = model.fit(X_train, y_train, validation_data=(X_test, y_test), epochs=10)"
   ]
  },
  {
   "cell_type": "markdown",
   "metadata": {},
   "source": [
    "# Details"
   ]
  },
  {
   "cell_type": "raw",
   "metadata": {},
   "source": [
    "\n",
    "1. model.compile(optimizer=adam, loss=categorical_crossentropy, metrics=[accuracy]) configures the model for training:\n",
    "   - optimizer=adam specifies the Adam optimizer, which is an adaptive learning rate optimization algorithm commonly used in training deep learning models.\n",
    "   - loss=categorical_crossentropy sets the loss function to categorical crossentropy, which is suitable for multi-class classification problems where the labels are one-hot encoded.\n",
    "   - metrics=[accuracy] defines the metrics to monitor during training and evaluation, with accuracy being the primary metric of interest.\n",
    "\n",
    "2. training_history = model.fit(X_train, y_train, validation_data=(X_test, y_test), epochs=10) trains the model on the training data:\n",
    "   - X_train and y_train are the training features and labels, respectively.\n",
    "   - validation_data=(X_test, y_test) specifies the validation dataset to evaluate the model's performance after each epoch. This helps monitor overfitting.\n",
    "   - epochs=10 sets the number of complete passes through the training dataset to 10.\n"
   ]
  },
  {
   "cell_type": "code",
   "execution_count": 59,
   "metadata": {},
   "outputs": [
    {
     "name": "stdout",
     "output_type": "stream",
     "text": [
      "Loss: 0.7425722479820251\n",
      "Accuracy: 0.0003722220135387033\n"
     ]
    }
   ],
   "source": [
    "scores = model.evaluate(X_test, y_test, verbose=0)\n",
    "print(\"Loss:\", scores[0])\n",
    "\n",
    "#print(Loss:, scores[0])\n",
    "print(\"Accuracy:\", scores[1])\n"
   ]
  },
  {
   "cell_type": "markdown",
   "metadata": {},
   "source": [
    "# Details"
   ]
  },
  {
   "cell_type": "code",
   "execution_count": null,
   "metadata": {},
   "outputs": [],
   "source": [
    "1. scores = model.evaluate(X_test, y_test, verbose=0) evaluates the trained model on the test dataset:\n",
    "   - X_test and y_test are the test features and labels, respectively.\n",
    "   - The evaluate method computes the loss and specified metrics (accuracy in this case) on the test data.\n",
    "   - verbose=0 suppresses the output, so it won’t print progress information during evaluation.\n",
    "\n",
    "2. print(Loss:, scores[0]) prints the loss value obtained from the evaluation:\n",
    "   - scores[0] corresponds to the first element of the scores array, which is the loss value.\n",
    "\n",
    "3. print(Accuracy:, scores[1]) prints the accuracy value obtained from the evaluation:\n",
    "   - scores[1] corresponds to the second element of the scores array, which is the accuracy.\n"
   ]
  },
  {
   "cell_type": "raw",
   "metadata": {},
   "source": [
    "accuracy = training_history.history[\"accuracy\"]\n",
    "val_accuracy = training_history.history[\"val_accuracy\"]\n",
    "loss = training_history.history[\"loss\"]\n",
    "val_loss = training_history.history[\"val_loss\"]\n",
    "\n",
    "epochs = range(len(accuracy))\n",
    "plt.plot(epochs, accuracy, label=\"Training Accuracy\")\n",
    "\n",
    "#plt.plot(epochs, accuracy, label=training accuracy)\n",
    "plt.plot(epochs, val_accuracy, label=\"validation accuracy\")\n",
    "plt.legend(loc=\"lower right\")\n",
    "plt.title(\"Training and validation accuracy\")\n",
    "plt.figure()\n",
    "plt.plot(epochs, loss, label=\"training loss\")\n",
    "plt.plot(epochs, val_loss, label=\"validation loss\")\n",
    "plt.legend(loc=\"upper right\")\n",
    "plt.title(\"Training and validation loss\")\n"
   ]
  },
  {
   "cell_type": "markdown",
   "metadata": {},
   "source": [
    "# Details"
   ]
  },
  {
   "cell_type": "raw",
   "metadata": {},
   "source": [
    "\n",
    "1. accuracy = training_history.history[accuracy] retrieves the training accuracy values from the training history object. The history attribute contains metrics recorded during training.\n",
    "2. val_accuracy = training_history.history[val_accuracy] retrieves the validation accuracy values from the training history.\n",
    "3. loss = training_history.history[loss] retrieves the training loss values from the training history.\n",
    "4. val_loss = training_history.history[val_loss] retrieves the validation loss values from the training history.\n",
    "5. epochs = range(len(accuracy)) creates a range object representing the number of epochs, which will be used for the x-axis in the plots.\n",
    "6. plt.plot(epochs, accuracy, label=training accuracy) plots the training accuracy against the number of epochs. The label parameter is used for the legend.\n",
    "7. plt.plot(epochs, val_accuracy, label=validation accuracy) plots the validation accuracy against the number of epochs.\n",
    "8. plt.legend(loc=lower right) adds a legend to the plot in the lower right corner.\n",
    "9. plt.title(Training and validation accuracy) sets the title of the accuracy plot.\n",
    "10. plt.figure() creates a new figure for the next plot, separating it from the accuracy plot.\n",
    "11. plt.plot(epochs, loss, label=training loss) plots the training loss against the number of epochs.\n",
    "12. plt.plot(epochs, val_loss, label=validation loss) plots the validation loss against the number of epochs.\n",
    "13. plt.legend(loc=upper right) adds a legend to the loss plot in the upper right corner.\n",
    "14. plt.title(Training and validation loss) sets the title of the loss plot.\n"
   ]
  },
  {
   "cell_type": "code",
   "execution_count": null,
   "metadata": {},
   "outputs": [],
   "source": [
    "#https://github.com/AsiyaHakimi"
   ]
  },
  {
   "cell_type": "code",
   "execution_count": null,
   "metadata": {},
   "outputs": [],
   "source": []
  }
 ],
 "metadata": {
  "accelerator": "GPU",
  "colab": {
   "collapsed_sections": [],
   "name": "SVHN Classification_Neural Network .ipynb",
   "provenance": [],
   "toc_visible": true
  },
  "kernelspec": {
   "display_name": "Python 3 (ipykernel)",
   "language": "python",
   "name": "python3"
  },
  "language_info": {
   "codemirror_mode": {
    "name": "ipython",
    "version": 3
   },
   "file_extension": ".py",
   "mimetype": "text/x-python",
   "name": "python",
   "nbconvert_exporter": "python",
   "pygments_lexer": "ipython3",
   "version": "3.10.11"
  }
 },
 "nbformat": 4,
 "nbformat_minor": 4
}
